{
 "cells": [
  {
   "cell_type": "markdown",
   "id": "bf0e62fc",
   "metadata": {},
   "source": [
    "### **Handling Imbalanced Dataset**"
   ]
  },
  {
   "cell_type": "code",
   "execution_count": 11,
   "id": "3422c113",
   "metadata": {},
   "outputs": [],
   "source": [
    "import numpy as np\n",
    "import pandas as pd\n",
    "from sklearn.utils import resample"
   ]
  },
  {
   "cell_type": "code",
   "execution_count": 2,
   "id": "d4a8ea73",
   "metadata": {},
   "outputs": [],
   "source": [
    "np.random.seed(123)\n",
    "\n",
    "# Create dataframe with two classes\n",
    "n_samples = 1000\n",
    "class_0_ratio = 0.9\n",
    "n_class_0 = int(n_samples * class_0_ratio)\n",
    "n_class_1 = n_samples - n_class_0"
   ]
  },
  {
   "cell_type": "code",
   "execution_count": 3,
   "id": "76d11d63",
   "metadata": {},
   "outputs": [
    {
     "data": {
      "text/plain": [
       "(900, 100)"
      ]
     },
     "execution_count": 3,
     "metadata": {},
     "output_type": "execute_result"
    }
   ],
   "source": [
    "n_class_0, n_class_1"
   ]
  },
  {
   "cell_type": "code",
   "execution_count": 4,
   "id": "f9f7243f",
   "metadata": {},
   "outputs": [],
   "source": [
    "### Create dataframe with imbalanced dataset\n",
    "\n",
    "class_0 = pd.DataFrame({\n",
    "    \"feature_1\": np.random.normal(loc=0, scale=1, size=n_class_0),\n",
    "    \"feature_2\": np.random.normal(loc=0, scale=1, size=n_class_0),\n",
    "    \"target\": [0] * n_class_0\n",
    "})\n",
    "\n",
    "class_1 = pd.DataFrame({\n",
    "    \"feature_1\": np.random.normal(loc=0, scale=1, size=n_class_1),\n",
    "    \"feature_2\": np.random.normal(loc=0, scale=1, size=n_class_1),\n",
    "    \"target\": [1] * n_class_1\n",
    "})"
   ]
  },
  {
   "cell_type": "code",
   "execution_count": 5,
   "id": "81b99166",
   "metadata": {},
   "outputs": [
    {
     "name": "stdout",
     "output_type": "stream",
     "text": [
      "   feature_1  feature_2  target\n",
      "0  -1.085631   0.551302       0\n",
      "1   0.997345   0.419589       0\n",
      "2   0.282978   1.815652       0\n",
      "3  -1.506295  -0.252750       0\n",
      "4  -0.578600  -0.292004       0\n",
      "\n",
      "   feature_1  feature_2  target\n",
      "0  -0.300232   0.139033       1\n",
      "1  -0.632261   0.025577       1\n",
      "2  -0.204317  -0.196443       1\n",
      "3   0.213696   1.312255       1\n",
      "4   1.033878   1.187417       1\n"
     ]
    }
   ],
   "source": [
    "print(class_0.head(), end=\"\\n\\n\")\n",
    "print(class_1.head())\n"
   ]
  },
  {
   "cell_type": "code",
   "execution_count": 6,
   "id": "be443256",
   "metadata": {},
   "outputs": [],
   "source": [
    "data = pd.concat([class_0, class_1]).reset_index(drop=True)"
   ]
  },
  {
   "cell_type": "code",
   "execution_count": 8,
   "id": "da689db1",
   "metadata": {},
   "outputs": [
    {
     "data": {
      "text/plain": [
       "(1000, 3)"
      ]
     },
     "execution_count": 8,
     "metadata": {},
     "output_type": "execute_result"
    }
   ],
   "source": [
    "data.head()\n",
    "data.shape"
   ]
  },
  {
   "cell_type": "code",
   "execution_count": 9,
   "id": "be1c5ddb",
   "metadata": {},
   "outputs": [
    {
     "data": {
      "text/plain": [
       "target\n",
       "0    900\n",
       "1    100\n",
       "Name: count, dtype: int64"
      ]
     },
     "execution_count": 9,
     "metadata": {},
     "output_type": "execute_result"
    }
   ],
   "source": [
    "data[\"target\"].value_counts()"
   ]
  },
  {
   "cell_type": "markdown",
   "id": "6408d765",
   "metadata": {},
   "source": [
    "#### **Upsampling**"
   ]
  },
  {
   "cell_type": "code",
   "execution_count": 10,
   "id": "4bd666ad",
   "metadata": {},
   "outputs": [],
   "source": [
    "data_major = data[data[\"target\"] == 0]\n",
    "data_minor = data[data[\"target\"] == 1]"
   ]
  },
  {
   "cell_type": "code",
   "execution_count": 12,
   "id": "9c3b3ea2",
   "metadata": {},
   "outputs": [],
   "source": [
    "data_minor_upsampled = resample(data_minor, \n",
    "                                replace=True,\n",
    "                                n_samples=len(data_major),\n",
    "                                random_state=42,\n",
    "                                )"
   ]
  },
  {
   "cell_type": "code",
   "execution_count": 15,
   "id": "4a4b2175",
   "metadata": {},
   "outputs": [
    {
     "data": {
      "text/plain": [
       "(900, 3)"
      ]
     },
     "execution_count": 15,
     "metadata": {},
     "output_type": "execute_result"
    }
   ],
   "source": [
    "data_minor_upsampled.head()\n",
    "data_minor_upsampled.shape\n"
   ]
  },
  {
   "cell_type": "code",
   "execution_count": 18,
   "id": "d5e84dfa",
   "metadata": {},
   "outputs": [
    {
     "data": {
      "text/plain": [
       "(1800, 3)"
      ]
     },
     "execution_count": 18,
     "metadata": {},
     "output_type": "execute_result"
    }
   ],
   "source": [
    "data_upsampled = pd.concat([data_major, data_minor_upsampled])\n",
    "\n",
    "data_upsampled.shape"
   ]
  },
  {
   "cell_type": "code",
   "execution_count": 19,
   "id": "c1352bf0",
   "metadata": {},
   "outputs": [
    {
     "data": {
      "text/plain": [
       "target\n",
       "0    900\n",
       "1    900\n",
       "Name: count, dtype: int64"
      ]
     },
     "execution_count": 19,
     "metadata": {},
     "output_type": "execute_result"
    }
   ],
   "source": [
    "data_upsampled[\"target\"].value_counts()"
   ]
  },
  {
   "cell_type": "markdown",
   "id": "d0d1bc18",
   "metadata": {},
   "source": [
    "#### **Down Sampling**"
   ]
  },
  {
   "cell_type": "code",
   "execution_count": 20,
   "id": "8594136a",
   "metadata": {},
   "outputs": [],
   "source": [
    "np.random.seed(123)\n",
    "\n",
    "# Create dataframe with two classes\n",
    "n_samples = 1000\n",
    "class_0_ratio = 0.9\n",
    "n_class_0 = int(n_samples * class_0_ratio)\n",
    "n_class_1 = n_samples - n_class_0"
   ]
  },
  {
   "cell_type": "code",
   "execution_count": 21,
   "id": "0b65300a",
   "metadata": {},
   "outputs": [],
   "source": [
    "### Create dataframe with imbalanced dataset\n",
    "\n",
    "class_0 = pd.DataFrame({\n",
    "    \"feature_1\": np.random.normal(loc=0, scale=1, size=n_class_0),\n",
    "    \"feature_2\": np.random.normal(loc=0, scale=1, size=n_class_0),\n",
    "    \"target\": [0] * n_class_0\n",
    "})\n",
    "\n",
    "class_1 = pd.DataFrame({\n",
    "    \"feature_1\": np.random.normal(loc=0, scale=1, size=n_class_1),\n",
    "    \"feature_2\": np.random.normal(loc=0, scale=1, size=n_class_1),\n",
    "    \"target\": [1] * n_class_1\n",
    "})"
   ]
  },
  {
   "cell_type": "code",
   "execution_count": 22,
   "id": "ff155a13",
   "metadata": {},
   "outputs": [],
   "source": [
    "data_major = data[data[\"target\"] == 0]\n",
    "data_minor = data[data[\"target\"] == 1]"
   ]
  },
  {
   "cell_type": "code",
   "execution_count": 23,
   "id": "5c6027d1",
   "metadata": {},
   "outputs": [],
   "source": [
    "data_major_downsampled = resample(data_major, \n",
    "                                  replace=True,\n",
    "                                  n_samples=len(data_minor),\n",
    "                                  random_state=42,\n",
    "                                  )"
   ]
  },
  {
   "cell_type": "code",
   "execution_count": 26,
   "id": "5e2654bb",
   "metadata": {},
   "outputs": [
    {
     "data": {
      "text/plain": [
       "(100, 3)"
      ]
     },
     "execution_count": 26,
     "metadata": {},
     "output_type": "execute_result"
    }
   ],
   "source": [
    "data_major_downsampled.head()\n",
    "data_major_downsampled.shape"
   ]
  },
  {
   "cell_type": "code",
   "execution_count": 27,
   "id": "22b4d54a",
   "metadata": {},
   "outputs": [
    {
     "data": {
      "text/plain": [
       "(200, 3)"
      ]
     },
     "execution_count": 27,
     "metadata": {},
     "output_type": "execute_result"
    }
   ],
   "source": [
    "data_downsampled = pd.concat([data_major_downsampled, data_minor])\n",
    "\n",
    "data_downsampled.shape"
   ]
  },
  {
   "cell_type": "code",
   "execution_count": 28,
   "id": "ba3452bb",
   "metadata": {},
   "outputs": [
    {
     "data": {
      "text/plain": [
       "target\n",
       "0    100\n",
       "1    100\n",
       "Name: count, dtype: int64"
      ]
     },
     "execution_count": 28,
     "metadata": {},
     "output_type": "execute_result"
    }
   ],
   "source": [
    "data_downsampled[\"target\"].value_counts()"
   ]
  },
  {
   "cell_type": "code",
   "execution_count": null,
   "id": "301ec662",
   "metadata": {},
   "outputs": [],
   "source": []
  }
 ],
 "metadata": {
  "kernelspec": {
   "display_name": "AI_ML_VENV",
   "language": "python",
   "name": "ai_ml_venv"
  },
  "language_info": {
   "codemirror_mode": {
    "name": "ipython",
    "version": 3
   },
   "file_extension": ".py",
   "mimetype": "text/x-python",
   "name": "python",
   "nbconvert_exporter": "python",
   "pygments_lexer": "ipython3",
   "version": "3.12.2"
  }
 },
 "nbformat": 4,
 "nbformat_minor": 5
}
